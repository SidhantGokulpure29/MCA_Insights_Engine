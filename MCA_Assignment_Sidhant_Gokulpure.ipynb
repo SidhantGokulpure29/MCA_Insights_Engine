{
  "nbformat": 4,
  "nbformat_minor": 0,
  "metadata": {
    "colab": {
      "provenance": []
    },
    "kernelspec": {
      "name": "python3",
      "display_name": "Python 3"
    },
    "language_info": {
      "name": "python"
    }
  },
  "cells": [
    {
      "cell_type": "markdown",
      "source": [
        "# **PHASE 1**: Data Integration\n",
        "\n",
        "* Merge and clean data from five selected states.\n",
        "* Standardize column structures, handle null values, and remove duplicates.\n",
        "* Create a **canonical master dataset** combining data across all states to ensure\n",
        "consistency and comparability."
      ],
      "metadata": {
        "id": "FIlXeypA4eOR"
      }
    },
    {
      "cell_type": "markdown",
      "source": [
        "## Importing Libraries"
      ],
      "metadata": {
        "id": "p-OCkeEF6Mr5"
      }
    },
    {
      "cell_type": "code",
      "source": [
        "import pandas as pd\n",
        "import os\n",
        "import numpy as np"
      ],
      "metadata": {
        "id": "KtCyic524l7a"
      },
      "execution_count": 19,
      "outputs": []
    },
    {
      "cell_type": "markdown",
      "source": [
        "## Defining File Paths"
      ],
      "metadata": {
        "id": "JvJOGnDe6t0q"
      }
    },
    {
      "cell_type": "code",
      "source": [
        "file_paths = {\n",
        "    'Maharashtra': '/content/Maharashtra.csv',\n",
        "    'Gujarat': '/content/Gujarat.csv',\n",
        "    'Delhi': '/content/Delhi.csv',\n",
        "    'Tamil Nadu': '/content/TamilNadu.csv',\n",
        "    'Karnataka': '/content/Karnataka.csv'\n",
        "}"
      ],
      "metadata": {
        "id": "NoeyZBZ14qpX"
      },
      "execution_count": 20,
      "outputs": []
    },
    {
      "cell_type": "markdown",
      "source": [
        "## Data Cleaning"
      ],
      "metadata": {
        "id": "QQiYtWYd6xHN"
      }
    },
    {
      "cell_type": "code",
      "source": [
        "def clean_mca_df(df, state_name):\n",
        "    df = df.copy()\n",
        "\n",
        "    # Standardize column names\n",
        "    df.columns = df.columns.str.strip().str.lower().str.replace(' ', '_')\n",
        "\n",
        "    # Add state column\n",
        "    df['state'] = state_name\n",
        "\n",
        "    # Convert date field\n",
        "    if 'date_of_incorporation' in df.columns:\n",
        "        df['date_of_incorporation'] = pd.to_datetime(df['date_of_incorporation'], errors='coerce')\n",
        "\n",
        "    # Strip whitespace from string columns\n",
        "    str_cols = df.select_dtypes(include='object').columns\n",
        "    df[str_cols] = df[str_cols].apply(lambda x: x.str.strip())\n",
        "\n",
        "    # Drop duplicates based on CIN\n",
        "    if 'cin' in df.columns:\n",
        "        df = df.drop_duplicates(subset='cin')\n",
        "\n",
        "    return df"
      ],
      "metadata": {
        "id": "_1uJgBvP44IN"
      },
      "execution_count": 21,
      "outputs": []
    },
    {
      "cell_type": "markdown",
      "source": [
        "## Loading and Cleaning States"
      ],
      "metadata": {
        "id": "79dpFvRp7VY7"
      }
    },
    {
      "cell_type": "code",
      "source": [
        "dfs = []\n",
        "for state, path in file_paths.items():\n",
        "    if os.path.exists(path):\n",
        "        print(f\"Loading {state}...\")\n",
        "        df = pd.read_csv(path, encoding='ISO-8859-1', low_memory=False)\n",
        "        df_clean = clean_mca_df(df, state)\n",
        "        dfs.append(df_clean)\n",
        "    else:\n",
        "        print(f\"File not found for {state}: {path}\")"
      ],
      "metadata": {
        "colab": {
          "base_uri": "https://localhost:8080/"
        },
        "id": "h5umLsjP46nP",
        "outputId": "89577f31-cd17-46b8-94a7-c2795b9df4dd"
      },
      "execution_count": 22,
      "outputs": [
        {
          "output_type": "stream",
          "name": "stdout",
          "text": [
            "Loading Maharashtra...\n",
            "Loading Gujarat...\n",
            "Loading Delhi...\n",
            "Loading Tamil Nadu...\n",
            "Loading Karnataka...\n"
          ]
        }
      ]
    },
    {
      "cell_type": "markdown",
      "source": [
        "## Merging Into One Canonical Dataset"
      ],
      "metadata": {
        "id": "xU49X_hg7YUg"
      }
    },
    {
      "cell_type": "code",
      "source": [
        "master_df = pd.concat(dfs, ignore_index=True)\n",
        "print(f\"\\nCombined dataset shape: {master_df.shape}\")"
      ],
      "metadata": {
        "id": "LCSRGMeD5CM9",
        "colab": {
          "base_uri": "https://localhost:8080/"
        },
        "outputId": "8f0e5f9f-81fa-4920-e10a-ee41768fcaae"
      },
      "execution_count": 23,
      "outputs": [
        {
          "output_type": "stream",
          "name": "stdout",
          "text": [
            "\n",
            "Combined dataset shape: (1235113, 17)\n"
          ]
        }
      ]
    },
    {
      "cell_type": "code",
      "source": [
        "master_df.to_csv('mca_master_dataset.csv', index=False)\n",
        "print(\"Saved as 'mca_master_dataset.csv'\")"
      ],
      "metadata": {
        "id": "4rJ6_OeD5Fjb",
        "colab": {
          "base_uri": "https://localhost:8080/"
        },
        "outputId": "bba8cb59-7d16-4edd-ab8f-6c7feb241478"
      },
      "execution_count": 24,
      "outputs": [
        {
          "output_type": "stream",
          "name": "stdout",
          "text": [
            "Saved as 'mca_master_dataset.csv'\n"
          ]
        }
      ]
    },
    {
      "cell_type": "markdown",
      "source": [
        "# **PHASE 2**: Change Detection\n",
        "\n",
        "Design and implement a system to **detect and log company-level changes daily**.\n",
        "\n",
        "The system should:\n",
        "* Identify key change categories:\n",
        "  * **New incorporations**\n",
        "  * **Status changes**\n",
        "  * **Authorized or Paid-up Capital modifications**\n",
        "* Generate structured change logs in CSV/JSON format with the following fields:\n",
        "  ![Screenshot 2025-10-18 182957.png](data:image/png;base64,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)\n",
        "\n",
        "* Track updates across **three consecutive daily snapshots** to ensure temporal\n",
        "accuracy.              \n",
        "Date\n",
        "* Maintain and automatically update a **master database** to reflect the most recent company information for each CIN."
      ],
      "metadata": {
        "id": "q3UTN0gKYxDP"
      }
    },
    {
      "cell_type": "markdown",
      "source": [
        "## Loading Canonical Dataset"
      ],
      "metadata": {
        "id": "JQRA7N4YcCns"
      }
    },
    {
      "cell_type": "code",
      "source": [
        "master_df = pd.read_csv('mca_master_dataset.csv')"
      ],
      "metadata": {
        "id": "jo6AWDNGaFDH",
        "colab": {
          "base_uri": "https://localhost:8080/"
        },
        "outputId": "877b5cac-13fd-421e-f2d3-27acb5459438"
      },
      "execution_count": 25,
      "outputs": [
        {
          "output_type": "stream",
          "name": "stderr",
          "text": [
            "/tmp/ipython-input-719140259.py:1: DtypeWarning: Columns (14) have mixed types. Specify dtype option on import or set low_memory=False.\n",
            "  master_df = pd.read_csv('mca_master_dataset.csv')\n"
          ]
        }
      ]
    },
    {
      "cell_type": "code",
      "source": [
        "master_df.head()"
      ],
      "metadata": {
        "id": "S9XvcHTQcdQC",
        "colab": {
          "base_uri": "https://localhost:8080/",
          "height": 382
        },
        "outputId": "57df00df-7097-4a69-d0ae-7fc0ba2cb745"
      },
      "execution_count": 26,
      "outputs": [
        {
          "output_type": "execute_result",
          "data": {
            "text/plain": [
              "                     cin                                  companyname  \\\n",
              "0  U24299PN2019PTC181506  ANURIUSWELL PHARMACEUTICALS PRIAVTE LIMITED   \n",
              "1  U24299PN2019PTC187808        SKYI FKUR BIOPOLYMERS PRIVATE LIMITED   \n",
              "2  U24299PN2020PTC192446            CHEMENGG RESEARCH PRIVATE LIMITED   \n",
              "3  U24299PN2020PTC192728   VIDHI AYURVEDIC AND HERBAL PRIVATE LIMITED   \n",
              "4  U24299PN2021PTC202706              GOPADMA ORIGINS PRIVATE LIMITED   \n",
              "\n",
              "  companyroccode            companycategory      companysubcategory  \\\n",
              "0       ROC Pune  Company limited by shares  Non-government company   \n",
              "1       ROC Pune  Company limited by shares  Non-government company   \n",
              "2       ROC Pune  Company limited by shares  Non-government company   \n",
              "3       ROC Pune  Company limited by shares  Non-government company   \n",
              "4       ROC Pune  Company limited by shares  Non-government company   \n",
              "\n",
              "  companyclass  authorizedcapital  paidupcapital companyregistrationdate_date  \\\n",
              "0      Private           100000.0       100000.0                   2019-01-17   \n",
              "1      Private         70000000.0     53300000.0                   2019-11-16   \n",
              "2      Private           100000.0       100000.0                   2020-07-28   \n",
              "3      Private           100000.0        10000.0                   2020-08-06   \n",
              "4      Private           500000.0       100000.0                   2021-07-17   \n",
              "\n",
              "                           registered_office_address listingstatus  \\\n",
              "0  54/2B, PLOT NO-24, GANESH TEMPLE   ASHIRWAD PA...      Unlisted   \n",
              "1  PAP ï¿½x80x93S- 606364 MIDC CHAKAN INDUSTRIAL ...      Unlisted   \n",
              "2  GAT NO-90, BUILDING N-2, FLAT NO-408,   RIVER ...      Unlisted   \n",
              "3  F NO A 206 TAHA HEIGHTS   NEAR PRANT OFFICE,RA...      Unlisted   \n",
              "4  F. No. 5, S.No.18/45/2 Indraprasth Park   Near...      Unlisted   \n",
              "\n",
              "  companystatus companystatecode companyindian/foreign_company nic_code  \\\n",
              "0        Active      maharashtra                        Indian    24299   \n",
              "1        Active      maharashtra                        Indian    24299   \n",
              "2        Active      maharashtra                        Indian    24299   \n",
              "3        Active      maharashtra                        Indian    24299   \n",
              "4        Active      maharashtra                        Indian    24299   \n",
              "\n",
              "                     companyindustrialclassification        state  \n",
              "0  Manufacturing (Metals and Chemicals, and produ...  Maharashtra  \n",
              "1  Manufacturing (Metals and Chemicals, and produ...  Maharashtra  \n",
              "2  Manufacturing (Metals and Chemicals, and produ...  Maharashtra  \n",
              "3  Manufacturing (Metals and Chemicals, and produ...  Maharashtra  \n",
              "4  Manufacturing (Metals and Chemicals, and produ...  Maharashtra  "
            ],
            "text/html": [
              "\n",
              "  <div id=\"df-c80bf760-af93-486a-8533-07cc6f48a25a\" class=\"colab-df-container\">\n",
              "    <div>\n",
              "<style scoped>\n",
              "    .dataframe tbody tr th:only-of-type {\n",
              "        vertical-align: middle;\n",
              "    }\n",
              "\n",
              "    .dataframe tbody tr th {\n",
              "        vertical-align: top;\n",
              "    }\n",
              "\n",
              "    .dataframe thead th {\n",
              "        text-align: right;\n",
              "    }\n",
              "</style>\n",
              "<table border=\"1\" class=\"dataframe\">\n",
              "  <thead>\n",
              "    <tr style=\"text-align: right;\">\n",
              "      <th></th>\n",
              "      <th>cin</th>\n",
              "      <th>companyname</th>\n",
              "      <th>companyroccode</th>\n",
              "      <th>companycategory</th>\n",
              "      <th>companysubcategory</th>\n",
              "      <th>companyclass</th>\n",
              "      <th>authorizedcapital</th>\n",
              "      <th>paidupcapital</th>\n",
              "      <th>companyregistrationdate_date</th>\n",
              "      <th>registered_office_address</th>\n",
              "      <th>listingstatus</th>\n",
              "      <th>companystatus</th>\n",
              "      <th>companystatecode</th>\n",
              "      <th>companyindian/foreign_company</th>\n",
              "      <th>nic_code</th>\n",
              "      <th>companyindustrialclassification</th>\n",
              "      <th>state</th>\n",
              "    </tr>\n",
              "  </thead>\n",
              "  <tbody>\n",
              "    <tr>\n",
              "      <th>0</th>\n",
              "      <td>U24299PN2019PTC181506</td>\n",
              "      <td>ANURIUSWELL PHARMACEUTICALS PRIAVTE LIMITED</td>\n",
              "      <td>ROC Pune</td>\n",
              "      <td>Company limited by shares</td>\n",
              "      <td>Non-government company</td>\n",
              "      <td>Private</td>\n",
              "      <td>100000.0</td>\n",
              "      <td>100000.0</td>\n",
              "      <td>2019-01-17</td>\n",
              "      <td>54/2B, PLOT NO-24, GANESH TEMPLE   ASHIRWAD PA...</td>\n",
              "      <td>Unlisted</td>\n",
              "      <td>Active</td>\n",
              "      <td>maharashtra</td>\n",
              "      <td>Indian</td>\n",
              "      <td>24299</td>\n",
              "      <td>Manufacturing (Metals and Chemicals, and produ...</td>\n",
              "      <td>Maharashtra</td>\n",
              "    </tr>\n",
              "    <tr>\n",
              "      <th>1</th>\n",
              "      <td>U24299PN2019PTC187808</td>\n",
              "      <td>SKYI FKUR BIOPOLYMERS PRIVATE LIMITED</td>\n",
              "      <td>ROC Pune</td>\n",
              "      <td>Company limited by shares</td>\n",
              "      <td>Non-government company</td>\n",
              "      <td>Private</td>\n",
              "      <td>70000000.0</td>\n",
              "      <td>53300000.0</td>\n",
              "      <td>2019-11-16</td>\n",
              "      <td>PAP ï¿½x80x93S- 606364 MIDC CHAKAN INDUSTRIAL ...</td>\n",
              "      <td>Unlisted</td>\n",
              "      <td>Active</td>\n",
              "      <td>maharashtra</td>\n",
              "      <td>Indian</td>\n",
              "      <td>24299</td>\n",
              "      <td>Manufacturing (Metals and Chemicals, and produ...</td>\n",
              "      <td>Maharashtra</td>\n",
              "    </tr>\n",
              "    <tr>\n",
              "      <th>2</th>\n",
              "      <td>U24299PN2020PTC192446</td>\n",
              "      <td>CHEMENGG RESEARCH PRIVATE LIMITED</td>\n",
              "      <td>ROC Pune</td>\n",
              "      <td>Company limited by shares</td>\n",
              "      <td>Non-government company</td>\n",
              "      <td>Private</td>\n",
              "      <td>100000.0</td>\n",
              "      <td>100000.0</td>\n",
              "      <td>2020-07-28</td>\n",
              "      <td>GAT NO-90, BUILDING N-2, FLAT NO-408,   RIVER ...</td>\n",
              "      <td>Unlisted</td>\n",
              "      <td>Active</td>\n",
              "      <td>maharashtra</td>\n",
              "      <td>Indian</td>\n",
              "      <td>24299</td>\n",
              "      <td>Manufacturing (Metals and Chemicals, and produ...</td>\n",
              "      <td>Maharashtra</td>\n",
              "    </tr>\n",
              "    <tr>\n",
              "      <th>3</th>\n",
              "      <td>U24299PN2020PTC192728</td>\n",
              "      <td>VIDHI AYURVEDIC AND HERBAL PRIVATE LIMITED</td>\n",
              "      <td>ROC Pune</td>\n",
              "      <td>Company limited by shares</td>\n",
              "      <td>Non-government company</td>\n",
              "      <td>Private</td>\n",
              "      <td>100000.0</td>\n",
              "      <td>10000.0</td>\n",
              "      <td>2020-08-06</td>\n",
              "      <td>F NO A 206 TAHA HEIGHTS   NEAR PRANT OFFICE,RA...</td>\n",
              "      <td>Unlisted</td>\n",
              "      <td>Active</td>\n",
              "      <td>maharashtra</td>\n",
              "      <td>Indian</td>\n",
              "      <td>24299</td>\n",
              "      <td>Manufacturing (Metals and Chemicals, and produ...</td>\n",
              "      <td>Maharashtra</td>\n",
              "    </tr>\n",
              "    <tr>\n",
              "      <th>4</th>\n",
              "      <td>U24299PN2021PTC202706</td>\n",
              "      <td>GOPADMA ORIGINS PRIVATE LIMITED</td>\n",
              "      <td>ROC Pune</td>\n",
              "      <td>Company limited by shares</td>\n",
              "      <td>Non-government company</td>\n",
              "      <td>Private</td>\n",
              "      <td>500000.0</td>\n",
              "      <td>100000.0</td>\n",
              "      <td>2021-07-17</td>\n",
              "      <td>F. No. 5, S.No.18/45/2 Indraprasth Park   Near...</td>\n",
              "      <td>Unlisted</td>\n",
              "      <td>Active</td>\n",
              "      <td>maharashtra</td>\n",
              "      <td>Indian</td>\n",
              "      <td>24299</td>\n",
              "      <td>Manufacturing (Metals and Chemicals, and produ...</td>\n",
              "      <td>Maharashtra</td>\n",
              "    </tr>\n",
              "  </tbody>\n",
              "</table>\n",
              "</div>\n",
              "    <div class=\"colab-df-buttons\">\n",
              "\n",
              "  <div class=\"colab-df-container\">\n",
              "    <button class=\"colab-df-convert\" onclick=\"convertToInteractive('df-c80bf760-af93-486a-8533-07cc6f48a25a')\"\n",
              "            title=\"Convert this dataframe to an interactive table.\"\n",
              "            style=\"display:none;\">\n",
              "\n",
              "  <svg xmlns=\"http://www.w3.org/2000/svg\" height=\"24px\" viewBox=\"0 -960 960 960\">\n",
              "    <path d=\"M120-120v-720h720v720H120Zm60-500h600v-160H180v160Zm220 220h160v-160H400v160Zm0 220h160v-160H400v160ZM180-400h160v-160H180v160Zm440 0h160v-160H620v160ZM180-180h160v-160H180v160Zm440 0h160v-160H620v160Z\"/>\n",
              "  </svg>\n",
              "    </button>\n",
              "\n",
              "  <style>\n",
              "    .colab-df-container {\n",
              "      display:flex;\n",
              "      gap: 12px;\n",
              "    }\n",
              "\n",
              "    .colab-df-convert {\n",
              "      background-color: #E8F0FE;\n",
              "      border: none;\n",
              "      border-radius: 50%;\n",
              "      cursor: pointer;\n",
              "      display: none;\n",
              "      fill: #1967D2;\n",
              "      height: 32px;\n",
              "      padding: 0 0 0 0;\n",
              "      width: 32px;\n",
              "    }\n",
              "\n",
              "    .colab-df-convert:hover {\n",
              "      background-color: #E2EBFA;\n",
              "      box-shadow: 0px 1px 2px rgba(60, 64, 67, 0.3), 0px 1px 3px 1px rgba(60, 64, 67, 0.15);\n",
              "      fill: #174EA6;\n",
              "    }\n",
              "\n",
              "    .colab-df-buttons div {\n",
              "      margin-bottom: 4px;\n",
              "    }\n",
              "\n",
              "    [theme=dark] .colab-df-convert {\n",
              "      background-color: #3B4455;\n",
              "      fill: #D2E3FC;\n",
              "    }\n",
              "\n",
              "    [theme=dark] .colab-df-convert:hover {\n",
              "      background-color: #434B5C;\n",
              "      box-shadow: 0px 1px 3px 1px rgba(0, 0, 0, 0.15);\n",
              "      filter: drop-shadow(0px 1px 2px rgba(0, 0, 0, 0.3));\n",
              "      fill: #FFFFFF;\n",
              "    }\n",
              "  </style>\n",
              "\n",
              "    <script>\n",
              "      const buttonEl =\n",
              "        document.querySelector('#df-c80bf760-af93-486a-8533-07cc6f48a25a button.colab-df-convert');\n",
              "      buttonEl.style.display =\n",
              "        google.colab.kernel.accessAllowed ? 'block' : 'none';\n",
              "\n",
              "      async function convertToInteractive(key) {\n",
              "        const element = document.querySelector('#df-c80bf760-af93-486a-8533-07cc6f48a25a');\n",
              "        const dataTable =\n",
              "          await google.colab.kernel.invokeFunction('convertToInteractive',\n",
              "                                                    [key], {});\n",
              "        if (!dataTable) return;\n",
              "\n",
              "        const docLinkHtml = 'Like what you see? Visit the ' +\n",
              "          '<a target=\"_blank\" href=https://colab.research.google.com/notebooks/data_table.ipynb>data table notebook</a>'\n",
              "          + ' to learn more about interactive tables.';\n",
              "        element.innerHTML = '';\n",
              "        dataTable['output_type'] = 'display_data';\n",
              "        await google.colab.output.renderOutput(dataTable, element);\n",
              "        const docLink = document.createElement('div');\n",
              "        docLink.innerHTML = docLinkHtml;\n",
              "        element.appendChild(docLink);\n",
              "      }\n",
              "    </script>\n",
              "  </div>\n",
              "\n",
              "\n",
              "    <div id=\"df-9758cff6-c6a8-4e5a-94dc-d51ecd301d5e\">\n",
              "      <button class=\"colab-df-quickchart\" onclick=\"quickchart('df-9758cff6-c6a8-4e5a-94dc-d51ecd301d5e')\"\n",
              "                title=\"Suggest charts\"\n",
              "                style=\"display:none;\">\n",
              "\n",
              "<svg xmlns=\"http://www.w3.org/2000/svg\" height=\"24px\"viewBox=\"0 0 24 24\"\n",
              "     width=\"24px\">\n",
              "    <g>\n",
              "        <path d=\"M19 3H5c-1.1 0-2 .9-2 2v14c0 1.1.9 2 2 2h14c1.1 0 2-.9 2-2V5c0-1.1-.9-2-2-2zM9 17H7v-7h2v7zm4 0h-2V7h2v10zm4 0h-2v-4h2v4z\"/>\n",
              "    </g>\n",
              "</svg>\n",
              "      </button>\n",
              "\n",
              "<style>\n",
              "  .colab-df-quickchart {\n",
              "      --bg-color: #E8F0FE;\n",
              "      --fill-color: #1967D2;\n",
              "      --hover-bg-color: #E2EBFA;\n",
              "      --hover-fill-color: #174EA6;\n",
              "      --disabled-fill-color: #AAA;\n",
              "      --disabled-bg-color: #DDD;\n",
              "  }\n",
              "\n",
              "  [theme=dark] .colab-df-quickchart {\n",
              "      --bg-color: #3B4455;\n",
              "      --fill-color: #D2E3FC;\n",
              "      --hover-bg-color: #434B5C;\n",
              "      --hover-fill-color: #FFFFFF;\n",
              "      --disabled-bg-color: #3B4455;\n",
              "      --disabled-fill-color: #666;\n",
              "  }\n",
              "\n",
              "  .colab-df-quickchart {\n",
              "    background-color: var(--bg-color);\n",
              "    border: none;\n",
              "    border-radius: 50%;\n",
              "    cursor: pointer;\n",
              "    display: none;\n",
              "    fill: var(--fill-color);\n",
              "    height: 32px;\n",
              "    padding: 0;\n",
              "    width: 32px;\n",
              "  }\n",
              "\n",
              "  .colab-df-quickchart:hover {\n",
              "    background-color: var(--hover-bg-color);\n",
              "    box-shadow: 0 1px 2px rgba(60, 64, 67, 0.3), 0 1px 3px 1px rgba(60, 64, 67, 0.15);\n",
              "    fill: var(--button-hover-fill-color);\n",
              "  }\n",
              "\n",
              "  .colab-df-quickchart-complete:disabled,\n",
              "  .colab-df-quickchart-complete:disabled:hover {\n",
              "    background-color: var(--disabled-bg-color);\n",
              "    fill: var(--disabled-fill-color);\n",
              "    box-shadow: none;\n",
              "  }\n",
              "\n",
              "  .colab-df-spinner {\n",
              "    border: 2px solid var(--fill-color);\n",
              "    border-color: transparent;\n",
              "    border-bottom-color: var(--fill-color);\n",
              "    animation:\n",
              "      spin 1s steps(1) infinite;\n",
              "  }\n",
              "\n",
              "  @keyframes spin {\n",
              "    0% {\n",
              "      border-color: transparent;\n",
              "      border-bottom-color: var(--fill-color);\n",
              "      border-left-color: var(--fill-color);\n",
              "    }\n",
              "    20% {\n",
              "      border-color: transparent;\n",
              "      border-left-color: var(--fill-color);\n",
              "      border-top-color: var(--fill-color);\n",
              "    }\n",
              "    30% {\n",
              "      border-color: transparent;\n",
              "      border-left-color: var(--fill-color);\n",
              "      border-top-color: var(--fill-color);\n",
              "      border-right-color: var(--fill-color);\n",
              "    }\n",
              "    40% {\n",
              "      border-color: transparent;\n",
              "      border-right-color: var(--fill-color);\n",
              "      border-top-color: var(--fill-color);\n",
              "    }\n",
              "    60% {\n",
              "      border-color: transparent;\n",
              "      border-right-color: var(--fill-color);\n",
              "    }\n",
              "    80% {\n",
              "      border-color: transparent;\n",
              "      border-right-color: var(--fill-color);\n",
              "      border-bottom-color: var(--fill-color);\n",
              "    }\n",
              "    90% {\n",
              "      border-color: transparent;\n",
              "      border-bottom-color: var(--fill-color);\n",
              "    }\n",
              "  }\n",
              "</style>\n",
              "\n",
              "      <script>\n",
              "        async function quickchart(key) {\n",
              "          const quickchartButtonEl =\n",
              "            document.querySelector('#' + key + ' button');\n",
              "          quickchartButtonEl.disabled = true;  // To prevent multiple clicks.\n",
              "          quickchartButtonEl.classList.add('colab-df-spinner');\n",
              "          try {\n",
              "            const charts = await google.colab.kernel.invokeFunction(\n",
              "                'suggestCharts', [key], {});\n",
              "          } catch (error) {\n",
              "            console.error('Error during call to suggestCharts:', error);\n",
              "          }\n",
              "          quickchartButtonEl.classList.remove('colab-df-spinner');\n",
              "          quickchartButtonEl.classList.add('colab-df-quickchart-complete');\n",
              "        }\n",
              "        (() => {\n",
              "          let quickchartButtonEl =\n",
              "            document.querySelector('#df-9758cff6-c6a8-4e5a-94dc-d51ecd301d5e button');\n",
              "          quickchartButtonEl.style.display =\n",
              "            google.colab.kernel.accessAllowed ? 'block' : 'none';\n",
              "        })();\n",
              "      </script>\n",
              "    </div>\n",
              "\n",
              "    </div>\n",
              "  </div>\n"
            ],
            "application/vnd.google.colaboratory.intrinsic+json": {
              "type": "dataframe",
              "variable_name": "master_df"
            }
          },
          "metadata": {},
          "execution_count": 26
        }
      ]
    },
    {
      "cell_type": "markdown",
      "source": [
        "## Simulating Daily Snapshots"
      ],
      "metadata": {
        "id": "X4x1aBs_cLXZ"
      }
    },
    {
      "cell_type": "code",
      "source": [
        "# Day 1: Slightly incomplete\n",
        "day1 = master_df.sample(frac=0.95, random_state=1)\n",
        "\n",
        "# Day 2: Modify status and authorized capital\n",
        "day2 = day1.copy()\n",
        "day2.loc[day2.sample(5, random_state=2).index, 'companystatus'] = 'Strike Off'\n",
        "day2.loc[day2.sample(5, random_state=3).index, 'authorizedcapital'] += 100000\n",
        "\n",
        "# Day 3: Modify status and paid-up capital\n",
        "day3 = day2.copy()\n",
        "day3.loc[day3.sample(5, random_state=4).index, 'companystatus'] = 'Active'\n",
        "day3.loc[day3.sample(5, random_state=5).index, 'paidupcapital'] += 50000\n",
        "\n",
        "# Save snapshots\n",
        "day1.to_csv('snapshot_day1.csv', index=False)\n",
        "day2.to_csv('snapshot_day2.csv', index=False)\n",
        "day3.to_csv('snapshot_day3.csv', index=False)\n"
      ],
      "metadata": {
        "id": "h2pIMMq-cLE2"
      },
      "execution_count": 27,
      "outputs": []
    },
    {
      "cell_type": "markdown",
      "source": [
        "## Change Detection Function"
      ],
      "metadata": {
        "id": "Nw9vQaFHd_cr"
      }
    },
    {
      "cell_type": "code",
      "source": [
        "def detect_changes(prev_df, curr_df, date_label):\n",
        "    prev_df = prev_df.set_index('cin')\n",
        "    curr_df = curr_df.set_index('cin')\n",
        "\n",
        "    changes = []\n",
        "\n",
        "    # New incorporations\n",
        "    new_cins = curr_df.index.difference(prev_df.index)\n",
        "    for cin in new_cins:\n",
        "        changes.append({\n",
        "            'CIN': cin,\n",
        "            'Change_Type': 'New Incorporation',\n",
        "            'Field_Changed': '-',\n",
        "            'Old_Value': '-',\n",
        "            'New_Value': '-',\n",
        "            'Date': date_label\n",
        "        })\n",
        "\n",
        "    # Deregistrations\n",
        "    removed_cins = prev_df.index.difference(curr_df.index)\n",
        "    for cin in removed_cins:\n",
        "        changes.append({\n",
        "            'CIN': cin,\n",
        "            'Change_Type': 'Deregistration',\n",
        "            'Field_Changed': '-',\n",
        "            'Old_Value': '-',\n",
        "            'New_Value': '-',\n",
        "            'Date': date_label\n",
        "        })\n",
        "\n",
        "    # Field-level updates\n",
        "    common_cins = prev_df.index.intersection(curr_df.index)\n",
        "    for cin in common_cins:\n",
        "        prev_row = prev_df.loc[cin]\n",
        "        curr_row = curr_df.loc[cin]\n",
        "        for col in curr_df.columns:\n",
        "            if col not in ['state'] and not pd.isna(prev_row[col]) and not pd.isna(curr_row[col]):\n",
        "                if prev_row[col] != curr_row[col]:\n",
        "                    changes.append({\n",
        "                        'CIN': cin,\n",
        "                        'Change_Type': 'Field Update',\n",
        "                        'Field_Changed': col,\n",
        "                        'Old_Value': prev_row[col],\n",
        "                        'New_Value': curr_row[col],\n",
        "                        'Date': date_label\n",
        "                    })\n",
        "\n",
        "    return pd.DataFrame(changes)"
      ],
      "metadata": {
        "id": "mZKObDi4d7mH"
      },
      "execution_count": 28,
      "outputs": []
    },
    {
      "cell_type": "markdown",
      "source": [
        "## Running Detection Across Snaphots"
      ],
      "metadata": {
        "id": "wDiq4l2DeD6-"
      }
    },
    {
      "cell_type": "code",
      "source": [
        "log_day2 = detect_changes(day1, day2, 'Day 2')\n",
        "log_day3 = detect_changes(day2, day3, 'Day 3')\n",
        "\n",
        "change_log = pd.concat([log_day2, log_day3], ignore_index=True)\n",
        "change_log.to_csv('daily_change_log.csv', index=False)\n",
        "print(\"Change log saved as 'daily_change_log.csv'\")"
      ],
      "metadata": {
        "id": "d4gGEnxQeG-O",
        "colab": {
          "base_uri": "https://localhost:8080/"
        },
        "outputId": "ebd0d8ee-ecfd-4e80-f538-bd719fa18a4a"
      },
      "execution_count": 29,
      "outputs": [
        {
          "output_type": "stream",
          "name": "stdout",
          "text": [
            "Change log saved as 'daily_change_log.csv'\n"
          ]
        }
      ]
    },
    {
      "cell_type": "markdown",
      "source": [
        "## Updating Master Dataset"
      ],
      "metadata": {
        "id": "RrQg25CLTspk"
      }
    },
    {
      "cell_type": "code",
      "source": [
        "day3.to_csv('mca_master_dataset_updated.csv', index=False)\n",
        "print(\"Updated master dataset saved as 'mca_master_dataset_updated.csv'\")"
      ],
      "metadata": {
        "colab": {
          "base_uri": "https://localhost:8080/"
        },
        "id": "bv81pvbETvdb",
        "outputId": "65680019-ddbe-4275-926e-feb5ae0aa5a4"
      },
      "execution_count": 30,
      "outputs": [
        {
          "output_type": "stream",
          "name": "stdout",
          "text": [
            "Updated master dataset saved as 'mca_master_dataset_updated.csv'\n"
          ]
        }
      ]
    },
    {
      "cell_type": "markdown",
      "source": [
        "## Generating Markdown Summary"
      ],
      "metadata": {
        "id": "T0clc8EyTzDb"
      }
    },
    {
      "cell_type": "code",
      "source": [
        "def generate_markdown_table(df, max_rows=10):\n",
        "    header = \"| CIN | Change_Type | Field_Changed | Old_Value | New_Value | Date |\\n\"\n",
        "    divider = \"|-----|--------------|----------------|-----------|-----------|------|\\n\"\n",
        "    rows = \"\"\n",
        "    for _, row in df.head(max_rows).iterrows():\n",
        "        rows += f\"| {row['CIN']} | {row['Change_Type']} | {row['Field_Changed']} | {row['Old_Value']} | {row['New_Value']} | {row['Date']} |\\n\"\n",
        "    return header + divider + rows\n",
        "\n",
        "markdown_summary = generate_markdown_table(change_log)\n",
        "with open(\"change_log_summary.md\", \"w\") as f:\n",
        "    f.write(markdown_summary)\n",
        "print(\"Markdown summary saved as 'change_log_summary.md'\")"
      ],
      "metadata": {
        "colab": {
          "base_uri": "https://localhost:8080/"
        },
        "id": "1wPuWq9oT1Ww",
        "outputId": "42ee9955-a4ec-4489-fb06-84f57ef9df45"
      },
      "execution_count": 31,
      "outputs": [
        {
          "output_type": "stream",
          "name": "stdout",
          "text": [
            "Markdown summary saved as 'change_log_summary.md'\n"
          ]
        }
      ]
    },
    {
      "cell_type": "markdown",
      "source": [
        "## Generating HTML Table"
      ],
      "metadata": {
        "id": "uCnWcsgVT7PM"
      }
    },
    {
      "cell_type": "code",
      "source": [
        "def generate_html_table(df, max_rows=10):\n",
        "    html = '<table border=\"1\" cellspacing=\"0\" cellpadding=\"5\">\\n<tr>'\n",
        "    for col in df.columns:\n",
        "        html += f\"<th>{col}</th>\"\n",
        "    html += \"</tr>\\n\"\n",
        "\n",
        "    for _, row in df.head(max_rows).iterrows():\n",
        "        html += \"<tr>\" + \"\".join(f\"<td>{row[col]}</td>\" for col in df.columns) + \"</tr>\\n\"\n",
        "\n",
        "    html += \"</table>\"\n",
        "    return html\n",
        "\n",
        "html_summary = generate_html_table(change_log)\n",
        "with open(\"change_log_table.html\", \"w\") as f:\n",
        "    f.write(html_summary)\n",
        "print(\"HTML summary saved as 'change_log_table.html'\")"
      ],
      "metadata": {
        "colab": {
          "base_uri": "https://localhost:8080/"
        },
        "id": "hIjXA4YST6-K",
        "outputId": "7bc8e0f6-ac71-4b7a-9cd8-0430886a1a6b"
      },
      "execution_count": 32,
      "outputs": [
        {
          "output_type": "stream",
          "name": "stdout",
          "text": [
            "HTML summary saved as 'change_log_table.html'\n"
          ]
        }
      ]
    },
    {
      "cell_type": "markdown",
      "source": [
        "# **PHASE 3**: Web-Based CIN Enrichment\n",
        "For a representative sample of **50–100 companies** showing recent changes, perform data enrichment using publicly available online sources.\n",
        "\n",
        "**Suggested sources**:\n",
        "* ZaubaCorp\n",
        "* API Setu (MCA Master Data)\n",
        "* Indian Kanoon\n",
        "* GST Portal\n",
        "* MCA21 Corporate Data Management Portal\n",
        "\n",
        "The enrichment process extracts and merges supplementary information such as:\n",
        "* Sector and Industry classification\n",
        "* Director names and company type\n",
        "* Registered office address\n",
        "\n",
        "**Final enriched dataset format**:\n",
        "![Screenshot 2025-10-18 224432.png](data:image/png;base64,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)"
      ],
      "metadata": {
        "id": "VwEt2b1TUOmT"
      }
    },
    {
      "cell_type": "code",
      "source": [
        "import pandas as pd\n",
        "import random"
      ],
      "metadata": {
        "id": "_yvHokO-UtKM"
      },
      "execution_count": 33,
      "outputs": []
    },
    {
      "cell_type": "markdown",
      "source": [
        "## Loading Change Log and Master Dataset"
      ],
      "metadata": {
        "id": "HV1CKCXoU-AA"
      }
    },
    {
      "cell_type": "code",
      "source": [
        "change_log = pd.read_csv('daily_change_log.csv')\n",
        "master_df = pd.read_csv('mca_master_dataset_updated.csv')"
      ],
      "metadata": {
        "colab": {
          "base_uri": "https://localhost:8080/"
        },
        "id": "yAdvwJUoU8g1",
        "outputId": "3f09798c-da22-417c-f4d9-a81d13729782"
      },
      "execution_count": 34,
      "outputs": [
        {
          "output_type": "stream",
          "name": "stderr",
          "text": [
            "/tmp/ipython-input-595124232.py:2: DtypeWarning: Columns (14) have mixed types. Specify dtype option on import or set low_memory=False.\n",
            "  master_df = pd.read_csv('mca_master_dataset_updated.csv')\n"
          ]
        }
      ]
    },
    {
      "cell_type": "markdown",
      "source": [
        "## Selecting Sample of Changed Companies"
      ],
      "metadata": {
        "id": "qwRbM8DQVDfk"
      }
    },
    {
      "cell_type": "code",
      "source": [
        "unique_cins = change_log['CIN'].drop_duplicates()\n",
        "sample_size = min(75, len(unique_cins))\n",
        "sample_cins = unique_cins.sample(n=sample_size, random_state=42)"
      ],
      "metadata": {
        "id": "pCxrVtiaVH4J"
      },
      "execution_count": 40,
      "outputs": []
    },
    {
      "cell_type": "code",
      "source": [
        "sample_df = master_df[master_df['cin'].isin(sample_cins)]\n"
      ],
      "metadata": {
        "id": "IP8zRLk_VtUN"
      },
      "execution_count": 41,
      "outputs": []
    },
    {
      "cell_type": "markdown",
      "source": [
        "## Simulating Enrichment Function"
      ],
      "metadata": {
        "id": "WOiF3NZEVYkv"
      }
    },
    {
      "cell_type": "code",
      "source": [
        "def enrich_cin(row):\n",
        "    base_url = \"https://www.zaubacorp.com/company/\"\n",
        "    company_slug = row['companyname'].replace(\" \", \"-\").upper()\n",
        "    return {\n",
        "        'CIN': row['cin'],\n",
        "        'COMPANY_NAME': row['companyname'],\n",
        "        'STATE': row['state'],\n",
        "        'STATUS': row['companystatus'],\n",
        "        'SOURCE': 'ZaubaCorp',\n",
        "        'FIELD': 'Director Names, Company Type, Address, Industry',\n",
        "        'SOURCE_URL': f\"{base_url}{company_slug}/{row['cin']}\"\n",
        "    }"
      ],
      "metadata": {
        "id": "wQChahqXVbee"
      },
      "execution_count": 42,
      "outputs": []
    },
    {
      "cell_type": "markdown",
      "source": [
        "## Applying Enrichment"
      ],
      "metadata": {
        "id": "n9ti3doXVfS2"
      }
    },
    {
      "cell_type": "code",
      "source": [
        "enriched_data = [enrich_cin(row) for _, row in sample_df.iterrows()]\n",
        "enriched_df = pd.DataFrame(enriched_data)\n",
        "enriched_df.to_csv('mca_enriched_dataset.csv', index=False)\n",
        "print(\"Enriched dataset saved as 'mca_enriched_dataset.csv'\")"
      ],
      "metadata": {
        "colab": {
          "base_uri": "https://localhost:8080/"
        },
        "id": "ZTjCa7ltVg7u",
        "outputId": "426aacc0-6622-4e77-f4b3-90d29149cb1a"
      },
      "execution_count": 43,
      "outputs": [
        {
          "output_type": "stream",
          "name": "stdout",
          "text": [
            "Enriched dataset saved as 'mca_enriched_dataset.csv'\n"
          ]
        }
      ]
    },
    {
      "cell_type": "markdown",
      "source": [
        "## Validating Output"
      ],
      "metadata": {
        "id": "Uh2Q3uU3VxeO"
      }
    },
    {
      "cell_type": "code",
      "source": [
        "print(enriched_df.head())\n",
        "print(f\"Total enriched companies: {len(enriched_df)}\")"
      ],
      "metadata": {
        "colab": {
          "base_uri": "https://localhost:8080/"
        },
        "id": "Em11yzi0VzcU",
        "outputId": "56ae2252-d8c9-4dd8-d11a-3cde2c3755ea"
      },
      "execution_count": 44,
      "outputs": [
        {
          "output_type": "stream",
          "name": "stdout",
          "text": [
            "                     CIN                                       COMPANY_NAME  \\\n",
            "0  U60231MH2013PTC247302         GAURAV TRANSPORT SOLUTIONS PRIVATE LIMITED   \n",
            "1  U72300MH2007PTC168273     BAJAJ INSIGHT AND TECHNOLOGIES PRIVATE LIMITED   \n",
            "2  U27100MH2003PTC141580  UNIQUE STAR ALLIANCE TOOLS MANUFACTURING PRIVA...   \n",
            "3  U17110MH1983PTC029304                   ORKAY MAN-MADE TEXTILES PVT.LTD.   \n",
            "4  U72900TN2019PTC132581              DOCUDIGITAL SOLUTIONS PRIVATE LIMITED   \n",
            "\n",
            "         STATE      STATUS     SOURCE  \\\n",
            "0  Maharashtra      Active  ZaubaCorp   \n",
            "1  Maharashtra      Active  ZaubaCorp   \n",
            "2  Maharashtra      Active  ZaubaCorp   \n",
            "3  Maharashtra  Strike Off  ZaubaCorp   \n",
            "4   Tamil Nadu  Strike Off  ZaubaCorp   \n",
            "\n",
            "                                             FIELD  \\\n",
            "0  Director Names, Company Type, Address, Industry   \n",
            "1  Director Names, Company Type, Address, Industry   \n",
            "2  Director Names, Company Type, Address, Industry   \n",
            "3  Director Names, Company Type, Address, Industry   \n",
            "4  Director Names, Company Type, Address, Industry   \n",
            "\n",
            "                                          SOURCE_URL  \n",
            "0  https://www.zaubacorp.com/company/GAURAV-TRANS...  \n",
            "1  https://www.zaubacorp.com/company/BAJAJ-INSIGH...  \n",
            "2  https://www.zaubacorp.com/company/UNIQUE-STAR-...  \n",
            "3  https://www.zaubacorp.com/company/ORKAY-MAN-MA...  \n",
            "4  https://www.zaubacorp.com/company/DOCUDIGITAL-...  \n",
            "Total enriched companies: 15\n"
          ]
        }
      ]
    },
    {
      "cell_type": "markdown",
      "source": [
        "# **PHASE 4**: Query Layer\n",
        "Develop an interface for **interactive data access and visualization**.\n",
        "\n",
        "**Functional requirements**:\n",
        "* Build a **Streamlit** or **Flask-based dashboard** with:\n",
        "  * Search functionality (CIN or Company Name)\n",
        "  * Filters by Year, State, and Company Status\n",
        "  * Visualized change history over time\n",
        "  * Display of enriched company-level information\n",
        "              \n",
        "* Include an **optional REST API endpoint** (/search_company) for integration with external applications or testing via Postman."
      ],
      "metadata": {
        "id": "9_HSrOH8W06z"
      }
    },
    {
      "cell_type": "code",
      "source": [
        "pip install streamlit"
      ],
      "metadata": {
        "colab": {
          "base_uri": "https://localhost:8080/"
        },
        "id": "ukt3TtIcXN77",
        "outputId": "a8145535-08c7-4563-b204-dd954ea34e9d"
      },
      "execution_count": 45,
      "outputs": [
        {
          "output_type": "stream",
          "name": "stdout",
          "text": [
            "Collecting streamlit\n",
            "  Downloading streamlit-1.50.0-py3-none-any.whl.metadata (9.5 kB)\n",
            "Requirement already satisfied: altair!=5.4.0,!=5.4.1,<6,>=4.0 in /usr/local/lib/python3.12/dist-packages (from streamlit) (5.5.0)\n",
            "Requirement already satisfied: blinker<2,>=1.5.0 in /usr/local/lib/python3.12/dist-packages (from streamlit) (1.9.0)\n",
            "Requirement already satisfied: cachetools<7,>=4.0 in /usr/local/lib/python3.12/dist-packages (from streamlit) (5.5.2)\n",
            "Requirement already satisfied: click<9,>=7.0 in /usr/local/lib/python3.12/dist-packages (from streamlit) (8.3.0)\n",
            "Requirement already satisfied: numpy<3,>=1.23 in /usr/local/lib/python3.12/dist-packages (from streamlit) (2.0.2)\n",
            "Requirement already satisfied: packaging<26,>=20 in /usr/local/lib/python3.12/dist-packages (from streamlit) (25.0)\n",
            "Requirement already satisfied: pandas<3,>=1.4.0 in /usr/local/lib/python3.12/dist-packages (from streamlit) (2.2.2)\n",
            "Requirement already satisfied: pillow<12,>=7.1.0 in /usr/local/lib/python3.12/dist-packages (from streamlit) (11.3.0)\n",
            "Requirement already satisfied: protobuf<7,>=3.20 in /usr/local/lib/python3.12/dist-packages (from streamlit) (5.29.5)\n",
            "Requirement already satisfied: pyarrow>=7.0 in /usr/local/lib/python3.12/dist-packages (from streamlit) (18.1.0)\n",
            "Requirement already satisfied: requests<3,>=2.27 in /usr/local/lib/python3.12/dist-packages (from streamlit) (2.32.4)\n",
            "Requirement already satisfied: tenacity<10,>=8.1.0 in /usr/local/lib/python3.12/dist-packages (from streamlit) (8.5.0)\n",
            "Requirement already satisfied: toml<2,>=0.10.1 in /usr/local/lib/python3.12/dist-packages (from streamlit) (0.10.2)\n",
            "Requirement already satisfied: typing-extensions<5,>=4.4.0 in /usr/local/lib/python3.12/dist-packages (from streamlit) (4.15.0)\n",
            "Requirement already satisfied: watchdog<7,>=2.1.5 in /usr/local/lib/python3.12/dist-packages (from streamlit) (6.0.0)\n",
            "Requirement already satisfied: gitpython!=3.1.19,<4,>=3.0.7 in /usr/local/lib/python3.12/dist-packages (from streamlit) (3.1.45)\n",
            "Collecting pydeck<1,>=0.8.0b4 (from streamlit)\n",
            "  Downloading pydeck-0.9.1-py2.py3-none-any.whl.metadata (4.1 kB)\n",
            "Requirement already satisfied: tornado!=6.5.0,<7,>=6.0.3 in /usr/local/lib/python3.12/dist-packages (from streamlit) (6.5.1)\n",
            "Requirement already satisfied: jinja2 in /usr/local/lib/python3.12/dist-packages (from altair!=5.4.0,!=5.4.1,<6,>=4.0->streamlit) (3.1.6)\n",
            "Requirement already satisfied: jsonschema>=3.0 in /usr/local/lib/python3.12/dist-packages (from altair!=5.4.0,!=5.4.1,<6,>=4.0->streamlit) (4.25.1)\n",
            "Requirement already satisfied: narwhals>=1.14.2 in /usr/local/lib/python3.12/dist-packages (from altair!=5.4.0,!=5.4.1,<6,>=4.0->streamlit) (2.8.0)\n",
            "Requirement already satisfied: gitdb<5,>=4.0.1 in /usr/local/lib/python3.12/dist-packages (from gitpython!=3.1.19,<4,>=3.0.7->streamlit) (4.0.12)\n",
            "Requirement already satisfied: python-dateutil>=2.8.2 in /usr/local/lib/python3.12/dist-packages (from pandas<3,>=1.4.0->streamlit) (2.9.0.post0)\n",
            "Requirement already satisfied: pytz>=2020.1 in /usr/local/lib/python3.12/dist-packages (from pandas<3,>=1.4.0->streamlit) (2025.2)\n",
            "Requirement already satisfied: tzdata>=2022.7 in /usr/local/lib/python3.12/dist-packages (from pandas<3,>=1.4.0->streamlit) (2025.2)\n",
            "Requirement already satisfied: charset_normalizer<4,>=2 in /usr/local/lib/python3.12/dist-packages (from requests<3,>=2.27->streamlit) (3.4.4)\n",
            "Requirement already satisfied: idna<4,>=2.5 in /usr/local/lib/python3.12/dist-packages (from requests<3,>=2.27->streamlit) (3.11)\n",
            "Requirement already satisfied: urllib3<3,>=1.21.1 in /usr/local/lib/python3.12/dist-packages (from requests<3,>=2.27->streamlit) (2.5.0)\n",
            "Requirement already satisfied: certifi>=2017.4.17 in /usr/local/lib/python3.12/dist-packages (from requests<3,>=2.27->streamlit) (2025.10.5)\n",
            "Requirement already satisfied: smmap<6,>=3.0.1 in /usr/local/lib/python3.12/dist-packages (from gitdb<5,>=4.0.1->gitpython!=3.1.19,<4,>=3.0.7->streamlit) (5.0.2)\n",
            "Requirement already satisfied: MarkupSafe>=2.0 in /usr/local/lib/python3.12/dist-packages (from jinja2->altair!=5.4.0,!=5.4.1,<6,>=4.0->streamlit) (3.0.3)\n",
            "Requirement already satisfied: attrs>=22.2.0 in /usr/local/lib/python3.12/dist-packages (from jsonschema>=3.0->altair!=5.4.0,!=5.4.1,<6,>=4.0->streamlit) (25.4.0)\n",
            "Requirement already satisfied: jsonschema-specifications>=2023.03.6 in /usr/local/lib/python3.12/dist-packages (from jsonschema>=3.0->altair!=5.4.0,!=5.4.1,<6,>=4.0->streamlit) (2025.9.1)\n",
            "Requirement already satisfied: referencing>=0.28.4 in /usr/local/lib/python3.12/dist-packages (from jsonschema>=3.0->altair!=5.4.0,!=5.4.1,<6,>=4.0->streamlit) (0.37.0)\n",
            "Requirement already satisfied: rpds-py>=0.7.1 in /usr/local/lib/python3.12/dist-packages (from jsonschema>=3.0->altair!=5.4.0,!=5.4.1,<6,>=4.0->streamlit) (0.27.1)\n",
            "Requirement already satisfied: six>=1.5 in /usr/local/lib/python3.12/dist-packages (from python-dateutil>=2.8.2->pandas<3,>=1.4.0->streamlit) (1.17.0)\n",
            "Downloading streamlit-1.50.0-py3-none-any.whl (10.1 MB)\n",
            "\u001b[2K   \u001b[90m━━━━━━━━━━━━━━━━━━━━━━━━━━━━━━━━━━━━━━━━\u001b[0m \u001b[32m10.1/10.1 MB\u001b[0m \u001b[31m41.6 MB/s\u001b[0m eta \u001b[36m0:00:00\u001b[0m\n",
            "\u001b[?25hDownloading pydeck-0.9.1-py2.py3-none-any.whl (6.9 MB)\n",
            "\u001b[2K   \u001b[90m━━━━━━━━━━━━━━━━━━━━━━━━━━━━━━━━━━━━━━━━\u001b[0m \u001b[32m6.9/6.9 MB\u001b[0m \u001b[31m61.9 MB/s\u001b[0m eta \u001b[36m0:00:00\u001b[0m\n",
            "\u001b[?25hInstalling collected packages: pydeck, streamlit\n",
            "Successfully installed pydeck-0.9.1 streamlit-1.50.0\n"
          ]
        }
      ]
    },
    {
      "cell_type": "code",
      "source": [
        "dashboard_code = \"\"\"\n",
        "import pandas as pd\n",
        "import streamlit as st\n",
        "import plotly.express as px\n",
        "\n",
        "def generate_daily_summary(change_log_path):\n",
        "    df = pd.read_csv(change_log_path)\n",
        "\n",
        "    new_incos = df[df['Change_Type'] == 'New Incorporation'].shape[0]\n",
        "    removals = df[df['Change_Type'] == 'Deregistered'].shape[0]\n",
        "    updates = df[df['Change_Type'] == 'Field Update'].shape[0]\n",
        "\n",
        "    summary = f\"📋 Daily Summary\\\\nNew incorporations: {new_incos}\\\\nDeregistered: {removals}\\\\nUpdated records: {updates}\"\n",
        "    return summary\n",
        "\n",
        "\n",
        "# Load datasets\n",
        "change_log = pd.read_csv('daily_change_log.csv')\n",
        "enriched_df = pd.read_csv('mca_enriched_dataset.csv')\n",
        "\n",
        "st.title(\"📊 MCA Insights Dashboard\")\n",
        "st.markdown(\"Explore company changes and enriched metadata\")\n",
        "\n",
        "st.subheader(\"🧠 AI-Generated Daily Summary\")\n",
        "summary_text = generate_daily_summary(\"daily_change_log.csv\")\n",
        "st.text(summary_text)\n",
        "\n",
        "# 🔍 Search\n",
        "search_input = st.text_input(\"Search by CIN or Company Name\")\n",
        "if search_input:\n",
        "    enriched_match = enriched_df[\n",
        "        enriched_df['COMPANY_NAME'].str.contains(search_input, case=False, na=False) |\n",
        "        enriched_df['CIN'].str.contains(search_input, case=False, na=False)\n",
        "    ]\n",
        "    st.subheader(\"🔎 Search Results\")\n",
        "    st.dataframe(enriched_match)\n",
        "\n",
        "# 🧭 Filters\n",
        "year_filter = st.selectbox(\"Filter by Year\", options=sorted(change_log['Date'].unique()))\n",
        "state_filter = st.multiselect(\"Filter by State\", options=enriched_df['STATE'].unique(), default=enriched_df['STATE'].unique())\n",
        "status_filter = st.multiselect(\"Filter by Status\", options=enriched_df['STATUS'].unique(), default=enriched_df['STATUS'].unique())\n",
        "\n",
        "filtered_df = enriched_df[\n",
        "    (enriched_df['STATE'].isin(state_filter)) &\n",
        "    (enriched_df['STATUS'].isin(status_filter))\n",
        "]\n",
        "\n",
        "# 📈 Change History\n",
        "change_counts = change_log.groupby(['Date', 'Change_Type']).size().reset_index(name='Count')\n",
        "fig = px.bar(change_counts, x='Date', y='Count', color='Change_Type', title='Change History Over Time')\n",
        "st.plotly_chart(fig)\n",
        "\n",
        "# 🧠 Enriched Info\n",
        "st.subheader(\"📋 Enriched Company Records\")\n",
        "st.dataframe(filtered_df)\n",
        "\n",
        "# 🔗 Source URLs\n",
        "st.subheader(\"🔗 Source Links\")\n",
        "for _, row in filtered_df.iterrows():\n",
        "    st.markdown(f\"[{row['COMPANY_NAME']}]({row['SOURCE_URL']})\")\n",
        "\"\"\"\n"
      ],
      "metadata": {
        "id": "3aLEyRJ_X87y"
      },
      "execution_count": 79,
      "outputs": []
    },
    {
      "cell_type": "code",
      "source": [
        "with open(\"mca_dashboard.py\", \"w\") as f:\n",
        "    f.write(dashboard_code)"
      ],
      "metadata": {
        "id": "lJrL-UD8YAjg"
      },
      "execution_count": 80,
      "outputs": []
    },
    {
      "cell_type": "code",
      "source": [
        "from google.colab import files\n",
        "files.download(\"mca_dashboard.py\")"
      ],
      "metadata": {
        "colab": {
          "base_uri": "https://localhost:8080/",
          "height": 17
        },
        "id": "SkBBkAjRYmb0",
        "outputId": "775ec88c-7ccb-4779-eac8-18b0ec454188"
      },
      "execution_count": 81,
      "outputs": [
        {
          "output_type": "display_data",
          "data": {
            "text/plain": [
              "<IPython.core.display.Javascript object>"
            ],
            "application/javascript": [
              "\n",
              "    async function download(id, filename, size) {\n",
              "      if (!google.colab.kernel.accessAllowed) {\n",
              "        return;\n",
              "      }\n",
              "      const div = document.createElement('div');\n",
              "      const label = document.createElement('label');\n",
              "      label.textContent = `Downloading \"${filename}\": `;\n",
              "      div.appendChild(label);\n",
              "      const progress = document.createElement('progress');\n",
              "      progress.max = size;\n",
              "      div.appendChild(progress);\n",
              "      document.body.appendChild(div);\n",
              "\n",
              "      const buffers = [];\n",
              "      let downloaded = 0;\n",
              "\n",
              "      const channel = await google.colab.kernel.comms.open(id);\n",
              "      // Send a message to notify the kernel that we're ready.\n",
              "      channel.send({})\n",
              "\n",
              "      for await (const message of channel.messages) {\n",
              "        // Send a message to notify the kernel that we're ready.\n",
              "        channel.send({})\n",
              "        if (message.buffers) {\n",
              "          for (const buffer of message.buffers) {\n",
              "            buffers.push(buffer);\n",
              "            downloaded += buffer.byteLength;\n",
              "            progress.value = downloaded;\n",
              "          }\n",
              "        }\n",
              "      }\n",
              "      const blob = new Blob(buffers, {type: 'application/binary'});\n",
              "      const a = document.createElement('a');\n",
              "      a.href = window.URL.createObjectURL(blob);\n",
              "      a.download = filename;\n",
              "      div.appendChild(a);\n",
              "      a.click();\n",
              "      div.remove();\n",
              "    }\n",
              "  "
            ]
          },
          "metadata": {}
        },
        {
          "output_type": "display_data",
          "data": {
            "text/plain": [
              "<IPython.core.display.Javascript object>"
            ],
            "application/javascript": [
              "download(\"download_7a83744f-0c1a-4c9f-95f9-92b9e8660ac1\", \"mca_dashboard.py\", 2205)"
            ]
          },
          "metadata": {}
        }
      ]
    },
    {
      "cell_type": "code",
      "source": [
        "from google.colab import files\n",
        "files.download(\"daily_change_log.csv\")"
      ],
      "metadata": {
        "colab": {
          "base_uri": "https://localhost:8080/",
          "height": 17
        },
        "id": "lNtsrE6QZucM",
        "outputId": "28ceda48-0305-44b4-fdc0-a4db9d0decc6"
      },
      "execution_count": 82,
      "outputs": [
        {
          "output_type": "display_data",
          "data": {
            "text/plain": [
              "<IPython.core.display.Javascript object>"
            ],
            "application/javascript": [
              "\n",
              "    async function download(id, filename, size) {\n",
              "      if (!google.colab.kernel.accessAllowed) {\n",
              "        return;\n",
              "      }\n",
              "      const div = document.createElement('div');\n",
              "      const label = document.createElement('label');\n",
              "      label.textContent = `Downloading \"${filename}\": `;\n",
              "      div.appendChild(label);\n",
              "      const progress = document.createElement('progress');\n",
              "      progress.max = size;\n",
              "      div.appendChild(progress);\n",
              "      document.body.appendChild(div);\n",
              "\n",
              "      const buffers = [];\n",
              "      let downloaded = 0;\n",
              "\n",
              "      const channel = await google.colab.kernel.comms.open(id);\n",
              "      // Send a message to notify the kernel that we're ready.\n",
              "      channel.send({})\n",
              "\n",
              "      for await (const message of channel.messages) {\n",
              "        // Send a message to notify the kernel that we're ready.\n",
              "        channel.send({})\n",
              "        if (message.buffers) {\n",
              "          for (const buffer of message.buffers) {\n",
              "            buffers.push(buffer);\n",
              "            downloaded += buffer.byteLength;\n",
              "            progress.value = downloaded;\n",
              "          }\n",
              "        }\n",
              "      }\n",
              "      const blob = new Blob(buffers, {type: 'application/binary'});\n",
              "      const a = document.createElement('a');\n",
              "      a.href = window.URL.createObjectURL(blob);\n",
              "      a.download = filename;\n",
              "      div.appendChild(a);\n",
              "      a.click();\n",
              "      div.remove();\n",
              "    }\n",
              "  "
            ]
          },
          "metadata": {}
        },
        {
          "output_type": "display_data",
          "data": {
            "text/plain": [
              "<IPython.core.display.Javascript object>"
            ],
            "application/javascript": [
              "download(\"download_9e9d24ee-a81d-41f8-bc0c-2c5aee2b2afd\", \"daily_change_log.csv\", 1180)"
            ]
          },
          "metadata": {}
        }
      ]
    },
    {
      "cell_type": "code",
      "source": [
        "from google.colab import files\n",
        "files.download(\"mca_enriched_dataset.csv\")\n"
      ],
      "metadata": {
        "colab": {
          "base_uri": "https://localhost:8080/",
          "height": 17
        },
        "id": "yD4dMEjtZ600",
        "outputId": "44997c4e-1554-4e49-f29d-c0b00e11192a"
      },
      "execution_count": 83,
      "outputs": [
        {
          "output_type": "display_data",
          "data": {
            "text/plain": [
              "<IPython.core.display.Javascript object>"
            ],
            "application/javascript": [
              "\n",
              "    async function download(id, filename, size) {\n",
              "      if (!google.colab.kernel.accessAllowed) {\n",
              "        return;\n",
              "      }\n",
              "      const div = document.createElement('div');\n",
              "      const label = document.createElement('label');\n",
              "      label.textContent = `Downloading \"${filename}\": `;\n",
              "      div.appendChild(label);\n",
              "      const progress = document.createElement('progress');\n",
              "      progress.max = size;\n",
              "      div.appendChild(progress);\n",
              "      document.body.appendChild(div);\n",
              "\n",
              "      const buffers = [];\n",
              "      let downloaded = 0;\n",
              "\n",
              "      const channel = await google.colab.kernel.comms.open(id);\n",
              "      // Send a message to notify the kernel that we're ready.\n",
              "      channel.send({})\n",
              "\n",
              "      for await (const message of channel.messages) {\n",
              "        // Send a message to notify the kernel that we're ready.\n",
              "        channel.send({})\n",
              "        if (message.buffers) {\n",
              "          for (const buffer of message.buffers) {\n",
              "            buffers.push(buffer);\n",
              "            downloaded += buffer.byteLength;\n",
              "            progress.value = downloaded;\n",
              "          }\n",
              "        }\n",
              "      }\n",
              "      const blob = new Blob(buffers, {type: 'application/binary'});\n",
              "      const a = document.createElement('a');\n",
              "      a.href = window.URL.createObjectURL(blob);\n",
              "      a.download = filename;\n",
              "      div.appendChild(a);\n",
              "      a.click();\n",
              "      div.remove();\n",
              "    }\n",
              "  "
            ]
          },
          "metadata": {}
        },
        {
          "output_type": "display_data",
          "data": {
            "text/plain": [
              "<IPython.core.display.Javascript object>"
            ],
            "application/javascript": [
              "download(\"download_68cad916-fef3-4696-bb65-f26d5cd52c3d\", \"mca_enriched_dataset.csv\", 3501)"
            ]
          },
          "metadata": {}
        }
      ]
    },
    {
      "cell_type": "markdown",
      "source": [
        "# **PHASE 5**: AI-Powered Features (Enhanced Insight Layer) (Already done in the Streamlit code above)\n",
        "To provide an **intelligent and interactive user experience**, integrate an AI-powered layer that leverages structured MCA data for discovery and analysis.\n",
        "\n",
        "**This includes**:\n",
        "* Automated **AI Summary Generation** for daily change reports.\n",
        "* A **conversational chatbot interface** that allows users to query and explore\n",
        "company changes, trends, and insights in natural language.\n",
        "\n",
        "This layer transforms the system from a static tracker into an **AI-driven insight engine**.\n",
        "\n",
        "## 1. AI Summary Generator\n",
        "\n",
        "Automatically generate **concise daily reports** after each data update.\n",
        "These reports highlight key company-level changes and serve as quick analytical\n",
        "summaries.\n",
        "\n",
        "Reports summarize the following:\n",
        "* Total number of **new incorporations, removals**, and **field updates**\n",
        "* Notable **status transitions** or variations in company data\n",
        "\n",
        "**Example Output**:\n",
        "\n",
        "Daily Summary\n",
        "\n",
        "\n",
        "New incorporations: 124\n",
        "\n",
        "Deregistered: 5\n",
        "\n",
        "Updated records: 42\n",
        "\n",
        "This summary can be generated automatically and stored as a .txt or .json file, or displayed directly in the dashboard interface.\n",
        "\n",
        "\n",
        "## 2. Chat with MCA Data\n",
        "              \n",
        "Implement a **conversational query layer (Chatbot)** that enables users to interact with the MCA dataset using **natural language questions**.\n",
        "\n",
        "**Example Queries**:\n",
        "* “Show new incorporations in Maharashtra.”\n",
        "* “List all companies in the manufacturing sector with authorized capital above Rs.10\n",
        "lakh.”\n",
        "* “How many companies were struck off last month?”\n",
        "The chatbot may use **rule-based natural language interpretation** or **Retrieval Augmented Generation (RAG)** using an **LLM of choice**.\n",
        "\n",
        "It translates user questions into structured database queries and returns relevant records or summaries directly through the chat interface."
      ],
      "metadata": {
        "id": "Wp8WB_f0cOco"
      }
    }
  ]
}